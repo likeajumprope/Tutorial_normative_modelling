{
 "cells": [
  {
   "cell_type": "markdown",
   "id": "4b64f505-ad16-437a-94de-2646f35ae55f",
   "metadata": {
    "id": "4b64f505-ad16-437a-94de-2646f35ae55f"
   },
   "source": [
    "## Estimating lifespan normative models\n",
    "\n",
    "This notebook provides a complete walkthrough for an analysis of normative modelling using your own dataset. Training and testing data is provided for this tutorial. However, the idea is that you could subsitute our provided training and testing datasets for you own dataset (as long as it matches the same format!)\n",
    "\n",
    "First, if necessary, we install PCNtoolkit (note: please, be sure to install the version 0.30.post2)"
   ]
  },
  {
   "cell_type": "code",
   "execution_count": 32,
   "id": "84ec2ca6-c0a2-4abf-8f05-29edc9e0fa24",
   "metadata": {
    "colab": {
     "base_uri": "https://localhost:8080/",
     "height": 1000
    },
    "id": "84ec2ca6-c0a2-4abf-8f05-29edc9e0fa24",
    "outputId": "7589b071-a57d-47f2-a90e-298c0a3c9e4f"
   },
   "outputs": [
    {
     "name": "stdout",
     "output_type": "stream",
     "text": [
      "Requirement already satisfied: pcntoolkit==0.30.post2 in /usr/local/lib/python3.10/dist-packages (0.30.post2)\n",
      "Collecting argparse (from pcntoolkit==0.30.post2)\n",
      "  Using cached argparse-1.4.0-py2.py3-none-any.whl.metadata (2.8 kB)\n",
      "Requirement already satisfied: nibabel>=2.5.1 in /usr/local/lib/python3.10/dist-packages (from pcntoolkit==0.30.post2) (5.3.2)\n",
      "Requirement already satisfied: six in /usr/local/lib/python3.10/dist-packages (from pcntoolkit==0.30.post2) (1.16.0)\n",
      "Requirement already satisfied: scikit-learn in /usr/local/lib/python3.10/dist-packages (from pcntoolkit==0.30.post2) (1.5.2)\n",
      "Requirement already satisfied: bspline in /usr/local/lib/python3.10/dist-packages (from pcntoolkit==0.30.post2) (0.1.1)\n",
      "Requirement already satisfied: matplotlib in /usr/local/lib/python3.10/dist-packages (from pcntoolkit==0.30.post2) (3.8.0)\n",
      "Requirement already satisfied: numpy in /usr/local/lib/python3.10/dist-packages (from pcntoolkit==0.30.post2) (1.26.4)\n",
      "Requirement already satisfied: scipy<1.13.0,>=1.3.2 in /usr/local/lib/python3.10/dist-packages (from pcntoolkit==0.30.post2) (1.12.0)\n",
      "Requirement already satisfied: pandas>=0.25.3 in /usr/local/lib/python3.10/dist-packages (from pcntoolkit==0.30.post2) (2.2.2)\n",
      "Requirement already satisfied: torch>=1.1.0 in /usr/local/lib/python3.10/dist-packages (from pcntoolkit==0.30.post2) (2.5.1+cu121)\n",
      "Requirement already satisfied: sphinx-tabs in /usr/local/lib/python3.10/dist-packages (from pcntoolkit==0.30.post2) (3.4.7)\n",
      "Requirement already satisfied: pymc>=5.1.0 in /usr/local/lib/python3.10/dist-packages (from pcntoolkit==0.30.post2) (5.18.2)\n",
      "Requirement already satisfied: arviz==0.13.0 in /usr/local/lib/python3.10/dist-packages (from pcntoolkit==0.30.post2) (0.13.0)\n",
      "Requirement already satisfied: setuptools>=60.0.0 in /usr/local/lib/python3.10/dist-packages (from arviz==0.13.0->pcntoolkit==0.30.post2) (75.1.0)\n",
      "Requirement already satisfied: packaging in /usr/local/lib/python3.10/dist-packages (from arviz==0.13.0->pcntoolkit==0.30.post2) (24.2)\n",
      "Requirement already satisfied: xarray>=0.21.0 in /usr/local/lib/python3.10/dist-packages (from arviz==0.13.0->pcntoolkit==0.30.post2) (2024.10.0)\n",
      "Requirement already satisfied: netcdf4 in /usr/local/lib/python3.10/dist-packages (from arviz==0.13.0->pcntoolkit==0.30.post2) (1.7.2)\n",
      "Requirement already satisfied: typing-extensions>=4.1.0 in /usr/local/lib/python3.10/dist-packages (from arviz==0.13.0->pcntoolkit==0.30.post2) (4.12.2)\n",
      "Requirement already satisfied: xarray-einstats>=0.3 in /usr/local/lib/python3.10/dist-packages (from arviz==0.13.0->pcntoolkit==0.30.post2) (0.8.0)\n",
      "Requirement already satisfied: contourpy>=1.0.1 in /usr/local/lib/python3.10/dist-packages (from matplotlib->pcntoolkit==0.30.post2) (1.3.1)\n",
      "Requirement already satisfied: cycler>=0.10 in /usr/local/lib/python3.10/dist-packages (from matplotlib->pcntoolkit==0.30.post2) (0.12.1)\n",
      "Requirement already satisfied: fonttools>=4.22.0 in /usr/local/lib/python3.10/dist-packages (from matplotlib->pcntoolkit==0.30.post2) (4.55.0)\n",
      "Requirement already satisfied: kiwisolver>=1.0.1 in /usr/local/lib/python3.10/dist-packages (from matplotlib->pcntoolkit==0.30.post2) (1.4.7)\n",
      "Requirement already satisfied: pillow>=6.2.0 in /usr/local/lib/python3.10/dist-packages (from matplotlib->pcntoolkit==0.30.post2) (11.0.0)\n",
      "Requirement already satisfied: pyparsing>=2.3.1 in /usr/local/lib/python3.10/dist-packages (from matplotlib->pcntoolkit==0.30.post2) (3.2.0)\n",
      "Requirement already satisfied: python-dateutil>=2.7 in /usr/local/lib/python3.10/dist-packages (from matplotlib->pcntoolkit==0.30.post2) (2.8.2)\n",
      "Requirement already satisfied: importlib-resources>=5.12 in /usr/local/lib/python3.10/dist-packages (from nibabel>=2.5.1->pcntoolkit==0.30.post2) (6.4.5)\n",
      "Requirement already satisfied: pytz>=2020.1 in /usr/local/lib/python3.10/dist-packages (from pandas>=0.25.3->pcntoolkit==0.30.post2) (2024.2)\n",
      "Requirement already satisfied: tzdata>=2022.7 in /usr/local/lib/python3.10/dist-packages (from pandas>=0.25.3->pcntoolkit==0.30.post2) (2024.2)\n",
      "Requirement already satisfied: cachetools>=4.2.1 in /usr/local/lib/python3.10/dist-packages (from pymc>=5.1.0->pcntoolkit==0.30.post2) (5.5.0)\n",
      "Requirement already satisfied: cloudpickle in /usr/local/lib/python3.10/dist-packages (from pymc>=5.1.0->pcntoolkit==0.30.post2) (3.1.0)\n",
      "Requirement already satisfied: pytensor<2.27,>=2.26.1 in /usr/local/lib/python3.10/dist-packages (from pymc>=5.1.0->pcntoolkit==0.30.post2) (2.26.3)\n",
      "Requirement already satisfied: rich>=13.7.1 in /usr/local/lib/python3.10/dist-packages (from pymc>=5.1.0->pcntoolkit==0.30.post2) (13.9.4)\n",
      "Requirement already satisfied: threadpoolctl<4.0.0,>=3.1.0 in /usr/local/lib/python3.10/dist-packages (from pymc>=5.1.0->pcntoolkit==0.30.post2) (3.5.0)\n",
      "Requirement already satisfied: filelock in /usr/local/lib/python3.10/dist-packages (from torch>=1.1.0->pcntoolkit==0.30.post2) (3.16.1)\n",
      "Requirement already satisfied: networkx in /usr/local/lib/python3.10/dist-packages (from torch>=1.1.0->pcntoolkit==0.30.post2) (3.4.2)\n",
      "Requirement already satisfied: jinja2 in /usr/local/lib/python3.10/dist-packages (from torch>=1.1.0->pcntoolkit==0.30.post2) (3.1.4)\n",
      "Requirement already satisfied: fsspec in /usr/local/lib/python3.10/dist-packages (from torch>=1.1.0->pcntoolkit==0.30.post2) (2024.10.0)\n",
      "Requirement already satisfied: sympy==1.13.1 in /usr/local/lib/python3.10/dist-packages (from torch>=1.1.0->pcntoolkit==0.30.post2) (1.13.1)\n",
      "Requirement already satisfied: mpmath<1.4,>=1.1.0 in /usr/local/lib/python3.10/dist-packages (from sympy==1.13.1->torch>=1.1.0->pcntoolkit==0.30.post2) (1.3.0)\n",
      "Requirement already satisfied: joblib>=1.2.0 in /usr/local/lib/python3.10/dist-packages (from scikit-learn->pcntoolkit==0.30.post2) (1.4.2)\n",
      "Requirement already satisfied: sphinx>=1.8 in /usr/local/lib/python3.10/dist-packages (from sphinx-tabs->pcntoolkit==0.30.post2) (8.1.3)\n",
      "Requirement already satisfied: pygments in /usr/local/lib/python3.10/dist-packages (from sphinx-tabs->pcntoolkit==0.30.post2) (2.18.0)\n",
      "Requirement already satisfied: docutils in /usr/local/lib/python3.10/dist-packages (from sphinx-tabs->pcntoolkit==0.30.post2) (0.21.2)\n",
      "Requirement already satisfied: etuples in /usr/local/lib/python3.10/dist-packages (from pytensor<2.27,>=2.26.1->pymc>=5.1.0->pcntoolkit==0.30.post2) (0.3.9)\n",
      "Requirement already satisfied: logical-unification in /usr/local/lib/python3.10/dist-packages (from pytensor<2.27,>=2.26.1->pymc>=5.1.0->pcntoolkit==0.30.post2) (0.4.6)\n",
      "Requirement already satisfied: miniKanren in /usr/local/lib/python3.10/dist-packages (from pytensor<2.27,>=2.26.1->pymc>=5.1.0->pcntoolkit==0.30.post2) (1.0.3)\n",
      "Requirement already satisfied: cons in /usr/local/lib/python3.10/dist-packages (from pytensor<2.27,>=2.26.1->pymc>=5.1.0->pcntoolkit==0.30.post2) (0.4.6)\n",
      "Requirement already satisfied: markdown-it-py>=2.2.0 in /usr/local/lib/python3.10/dist-packages (from rich>=13.7.1->pymc>=5.1.0->pcntoolkit==0.30.post2) (3.0.0)\n",
      "Requirement already satisfied: sphinxcontrib-applehelp>=1.0.7 in /usr/local/lib/python3.10/dist-packages (from sphinx>=1.8->sphinx-tabs->pcntoolkit==0.30.post2) (2.0.0)\n",
      "Requirement already satisfied: sphinxcontrib-devhelp>=1.0.6 in /usr/local/lib/python3.10/dist-packages (from sphinx>=1.8->sphinx-tabs->pcntoolkit==0.30.post2) (2.0.0)\n",
      "Requirement already satisfied: sphinxcontrib-htmlhelp>=2.0.6 in /usr/local/lib/python3.10/dist-packages (from sphinx>=1.8->sphinx-tabs->pcntoolkit==0.30.post2) (2.1.0)\n",
      "Requirement already satisfied: sphinxcontrib-jsmath>=1.0.1 in /usr/local/lib/python3.10/dist-packages (from sphinx>=1.8->sphinx-tabs->pcntoolkit==0.30.post2) (1.0.1)\n",
      "Requirement already satisfied: sphinxcontrib-qthelp>=1.0.6 in /usr/local/lib/python3.10/dist-packages (from sphinx>=1.8->sphinx-tabs->pcntoolkit==0.30.post2) (2.0.0)\n",
      "Requirement already satisfied: sphinxcontrib-serializinghtml>=1.1.9 in /usr/local/lib/python3.10/dist-packages (from sphinx>=1.8->sphinx-tabs->pcntoolkit==0.30.post2) (2.0.0)\n",
      "Requirement already satisfied: snowballstemmer>=2.2 in /usr/local/lib/python3.10/dist-packages (from sphinx>=1.8->sphinx-tabs->pcntoolkit==0.30.post2) (2.2.0)\n",
      "Requirement already satisfied: babel>=2.13 in /usr/local/lib/python3.10/dist-packages (from sphinx>=1.8->sphinx-tabs->pcntoolkit==0.30.post2) (2.16.0)\n",
      "Requirement already satisfied: alabaster>=0.7.14 in /usr/local/lib/python3.10/dist-packages (from sphinx>=1.8->sphinx-tabs->pcntoolkit==0.30.post2) (1.0.0)\n",
      "Requirement already satisfied: imagesize>=1.3 in /usr/local/lib/python3.10/dist-packages (from sphinx>=1.8->sphinx-tabs->pcntoolkit==0.30.post2) (1.4.1)\n",
      "Requirement already satisfied: requests>=2.30.0 in /usr/local/lib/python3.10/dist-packages (from sphinx>=1.8->sphinx-tabs->pcntoolkit==0.30.post2) (2.32.3)\n",
      "Requirement already satisfied: tomli>=2 in /usr/local/lib/python3.10/dist-packages (from sphinx>=1.8->sphinx-tabs->pcntoolkit==0.30.post2) (2.1.0)\n",
      "Requirement already satisfied: MarkupSafe>=2.0 in /usr/local/lib/python3.10/dist-packages (from jinja2->torch>=1.1.0->pcntoolkit==0.30.post2) (3.0.2)\n",
      "Requirement already satisfied: cftime in /usr/local/lib/python3.10/dist-packages (from netcdf4->arviz==0.13.0->pcntoolkit==0.30.post2) (1.6.4.post1)\n",
      "Requirement already satisfied: certifi in /usr/local/lib/python3.10/dist-packages (from netcdf4->arviz==0.13.0->pcntoolkit==0.30.post2) (2024.8.30)\n",
      "Requirement already satisfied: mdurl~=0.1 in /usr/local/lib/python3.10/dist-packages (from markdown-it-py>=2.2.0->rich>=13.7.1->pymc>=5.1.0->pcntoolkit==0.30.post2) (0.1.2)\n",
      "Requirement already satisfied: charset-normalizer<4,>=2 in /usr/local/lib/python3.10/dist-packages (from requests>=2.30.0->sphinx>=1.8->sphinx-tabs->pcntoolkit==0.30.post2) (3.4.0)\n",
      "Requirement already satisfied: idna<4,>=2.5 in /usr/local/lib/python3.10/dist-packages (from requests>=2.30.0->sphinx>=1.8->sphinx-tabs->pcntoolkit==0.30.post2) (3.10)\n",
      "Requirement already satisfied: urllib3<3,>=1.21.1 in /usr/local/lib/python3.10/dist-packages (from requests>=2.30.0->sphinx>=1.8->sphinx-tabs->pcntoolkit==0.30.post2) (2.2.3)\n",
      "Requirement already satisfied: toolz in /usr/local/lib/python3.10/dist-packages (from logical-unification->pytensor<2.27,>=2.26.1->pymc>=5.1.0->pcntoolkit==0.30.post2) (0.12.1)\n",
      "Requirement already satisfied: multipledispatch in /usr/local/lib/python3.10/dist-packages (from logical-unification->pytensor<2.27,>=2.26.1->pymc>=5.1.0->pcntoolkit==0.30.post2) (1.0.0)\n",
      "Using cached argparse-1.4.0-py2.py3-none-any.whl (23 kB)\n",
      "Installing collected packages: argparse\n",
      "Successfully installed argparse-1.4.0\n"
     ]
    },
    {
     "data": {
      "application/vnd.colab-display-data+json": {
       "id": "8e0f1a5a7c1d40bbb90b057d23a5eb23",
       "pip_warning": {
        "packages": [
         "argparse"
        ]
       }
      }
     },
     "metadata": {},
     "output_type": "display_data"
    }
   ],
   "source": [
    "# Make sure to click the restart runtime button at the\n",
    "# bottom of this code blocks' output (after you run the cell)\n",
    "! pip install pcntoolkit==0.30.post2"
   ]
  },
  {
   "cell_type": "markdown",
   "id": "909c3b45-ad46-4e6d-8732-dc5ac68488c6",
   "metadata": {
    "id": "909c3b45-ad46-4e6d-8732-dc5ac68488c6"
   },
   "source": [
    "Then we import the required libraries"
   ]
  },
  {
   "cell_type": "code",
   "execution_count": null,
   "id": "DGQhP2LbElmI",
   "metadata": {
    "colab": {
     "base_uri": "https://localhost:8080/"
    },
    "id": "DGQhP2LbElmI",
    "outputId": "5e5090cf-82bf-4299-8063-423b9ddcda2d"
   },
   "outputs": [
    {
     "name": "stdout",
     "output_type": "stream",
     "text": [
      "Cloning into 'CPC_ML_tutorial'...\n",
      "remote: Enumerating objects: 523, done.\u001b[K\n",
      "remote: Counting objects: 100% (241/241), done.\u001b[K\n",
      "remote: Compressing objects: 100% (161/161), done.\u001b[K\n",
      "remote: Total 523 (delta 127), reused 159 (delta 78), pack-reused 282 (from 1)\u001b[K\n",
      "Receiving objects: 100% (523/523), 27.35 MiB | 11.35 MiB/s, done.\n",
      "Resolving deltas: 100% (250/250), done.\n",
      "Updating files: 100% (39/39), done.\n"
     ]
    }
   ],
   "source": [
    "! git clone https://github.com/likeajumprope/Tutorial_normative_modelling.git"
   ]
  },
  {
   "cell_type": "code",
   "execution_count": null,
   "id": "d451c106-08e2-4f5b-baf9-da240768e68b",
   "metadata": {
    "id": "d451c106-08e2-4f5b-baf9-da240768e68b"
   },
   "outputs": [],
   "source": [
    "# we need to be in the CPC_ML_tutorial folder when we import the libraries in the code block below,\n",
    "# because there is a function called nm_utils that is in this folder that we need to import\n",
    "import os\n",
    "os.chdir('/content/Tutorial_normative_modelling/')"
   ]
  },
  {
   "cell_type": "code",
   "execution_count": 35,
   "id": "83c494d3-6ebd-4cde-aff0-8fc9344374dd",
   "metadata": {
    "id": "83c494d3-6ebd-4cde-aff0-8fc9344374dd"
   },
   "outputs": [],
   "source": [
    "import numpy as np\n",
    "import pandas as pd\n",
    "import pickle\n",
    "from matplotlib import pyplot as plt\n",
    "import seaborn as sns\n",
    "\n",
    "from pcntoolkit.normative import estimate, predict, evaluate\n",
    "from pcntoolkit.util.utils import compute_MSLL, create_design_matrix\n",
    "from nm_utils import calibration_descriptives, remove_bad_subjects, load_2d"
   ]
  },
  {
   "cell_type": "markdown",
   "id": "9822cc19-48e9-428b-8c5e-e059fd2d23f7",
   "metadata": {
    "id": "9822cc19-48e9-428b-8c5e-e059fd2d23f7"
   },
   "source": [
    "Now, we configure the locations in which the data are stored.\n",
    "\n",
    "**Notes:**\n",
    "- The data are assumed to be in CSV format and will be loaded as pandas dataframes\n",
    "- Generally the raw data will be in a different location to the analysis\n",
    "- The data can have arbitrary columns but some are required by the script, i.e. 'age', 'sex' and 'site', plus the phenotypes you wish to estimate (see below)"
   ]
  },
  {
   "cell_type": "code",
   "execution_count": null,
   "id": "7da01c88-7033-498b-a811-79ad58e8c17a",
   "metadata": {
    "id": "7da01c88-7033-498b-a811-79ad58e8c17a"
   },
   "outputs": [],
   "source": [
    "# where the raw data are stored\n",
    "data_dir = '/content/Tutorial_normative_modelling/data/'\n",
    "\n",
    "# where the analysis takes place\n",
    "root_dir = '/content/Tutorial_normative_modelling/'\n",
    "out_dir = os.path.join(root_dir,'models','test')\n",
    "\n",
    "# create the output directory if it does not already exist\n",
    "os.makedirs(out_dir, exist_ok=True)"
   ]
  },
  {
   "cell_type": "markdown",
   "id": "01141f19-a960-4823-baad-8604975304c3",
   "metadata": {
    "id": "01141f19-a960-4823-baad-8604975304c3"
   },
   "source": [
    "Now we load the data.\n",
    "\n",
    "We will load one pandas dataframe for the training set and one dataframe for the test set. We also configure a list of site ids."
   ]
  },
  {
   "cell_type": "code",
   "execution_count": 37,
   "id": "850fee6b-421f-41d9-8fd6-7e1dafbf0e9f",
   "metadata": {
    "id": "850fee6b-421f-41d9-8fd6-7e1dafbf0e9f"
   },
   "outputs": [],
   "source": [
    "df_tr = pd.read_csv(os.path.join(data_dir,'train_data.csv'), index_col=0)\n",
    "df_te = pd.read_csv(os.path.join(data_dir,'test_data.csv'), index_col=0)\n",
    "\n",
    "# extract a list of unique site ids from the training set\n",
    "site_ids =  sorted(set(df_tr['site'].to_list()))"
   ]
  },
  {
   "cell_type": "markdown",
   "id": "29f9593a-d3c9-4d08-a877-8794203c0001",
   "metadata": {
    "id": "29f9593a-d3c9-4d08-a877-8794203c0001"
   },
   "source": [
    "### Configure which models to fit\n",
    "\n",
    "Next, we load the image derived phenotypes (IDPs) which we will process in this analysis. This is effectively just a list of columns in your dataframe. Here we estimate normative models for the left hemisphere, right hemisphere and cortical structures."
   ]
  },
  {
   "cell_type": "code",
   "execution_count": 38,
   "id": "7438ef7e-9340-4f13-8d57-816918923705",
   "metadata": {
    "id": "7438ef7e-9340-4f13-8d57-816918923705"
   },
   "outputs": [],
   "source": [
    "# we choose here to process all idps. Uncomment lines 2-7 (and comment line 11) to run models for the whole brain, but we suggest just starting with several ROIs\n",
    "#os.chdir(root_dir)\n",
    "#!wget -nc https://raw.githubusercontent.com/CharFraza/CPC_ML_tutorial/master/data/task1_phenotypes.txt\n",
    "#with open(os.path.join(root_dir,'task1_phenotypes.txt')) as f:\n",
    "#  idp_ids = f.read().splitlines()\n",
    "#for idx, ele in enumerate(idp_ids):\n",
    "#        idp_ids[idx] = ele.replace('\\t', '')\n",
    "\n",
    "# we could also just specify a list of IDPs. Use this line to run just 2 models (not the whole brain)...this is a good place to start. If you have time,\n",
    "# you can uncomment the above line and run the whole brain models. Be sure to comment out this line if you uncomment the above line.\n",
    "idp_ids = ['lh_MeanThickness_thickness', 'rh_MeanThickness_thickness']"
   ]
  },
  {
   "cell_type": "markdown",
   "id": "5d791db6-8fe5-450c-88eb-84a390b8753a",
   "metadata": {
    "id": "5d791db6-8fe5-450c-88eb-84a390b8753a"
   },
   "source": [
    "### Configure model parameters\n",
    "\n",
    "Now, we configure some parameters for the regression model we use to fit the normative model. Here we will use a 'warped' Bayesian linear regression model. To model non-Gaussianity, we select a sin arcsinh warp and to model non-linearity, we stick with the default value for the basis expansion (a cubic b-spline basis set with 5 knot points). Since we are sticking with the default value, we do not need to specify any parameters for this, but we do need to specify the limits. We choose to pad the input by a few years either side of the input range. We will also set a couple of options that control the estimation of the model\n",
    "\n",
    "For further details about the likelihood warping approach, see [Fraza et al 2021](https://www.biorxiv.org/content/10.1101/2021.04.05.438429v1)."
   ]
  },
  {
   "cell_type": "code",
   "execution_count": 39,
   "id": "0IYl-eg2xGWE",
   "metadata": {
    "colab": {
     "base_uri": "https://localhost:8080/",
     "height": 335
    },
    "id": "0IYl-eg2xGWE",
    "outputId": "58bf1b6a-03a5-49f5-9625-50714a7f4e1e"
   },
   "outputs": [
    {
     "data": {
      "text/html": [
       "<div>\n",
       "<style scoped>\n",
       "    .dataframe tbody tr th:only-of-type {\n",
       "        vertical-align: middle;\n",
       "    }\n",
       "\n",
       "    .dataframe tbody tr th {\n",
       "        vertical-align: top;\n",
       "    }\n",
       "\n",
       "    .dataframe thead th {\n",
       "        text-align: right;\n",
       "    }\n",
       "</style>\n",
       "<table border=\"1\" class=\"dataframe\">\n",
       "  <thead>\n",
       "    <tr style=\"text-align: right;\">\n",
       "      <th></th>\n",
       "      <th>age</th>\n",
       "    </tr>\n",
       "  </thead>\n",
       "  <tbody>\n",
       "    <tr>\n",
       "      <th>count</th>\n",
       "      <td>1163.000000</td>\n",
       "    </tr>\n",
       "    <tr>\n",
       "      <th>mean</th>\n",
       "      <td>40.388727</td>\n",
       "    </tr>\n",
       "    <tr>\n",
       "      <th>std</th>\n",
       "      <td>17.235724</td>\n",
       "    </tr>\n",
       "    <tr>\n",
       "      <th>min</th>\n",
       "      <td>18.000000</td>\n",
       "    </tr>\n",
       "    <tr>\n",
       "      <th>25%</th>\n",
       "      <td>28.000000</td>\n",
       "    </tr>\n",
       "    <tr>\n",
       "      <th>50%</th>\n",
       "      <td>32.643395</td>\n",
       "    </tr>\n",
       "    <tr>\n",
       "      <th>75%</th>\n",
       "      <td>53.000000</td>\n",
       "    </tr>\n",
       "    <tr>\n",
       "      <th>max</th>\n",
       "      <td>87.000000</td>\n",
       "    </tr>\n",
       "  </tbody>\n",
       "</table>\n",
       "</div><br><label><b>dtype:</b> float64</label>"
      ],
      "text/plain": [
       "count    1163.000000\n",
       "mean       40.388727\n",
       "std        17.235724\n",
       "min        18.000000\n",
       "25%        28.000000\n",
       "50%        32.643395\n",
       "75%        53.000000\n",
       "max        87.000000\n",
       "Name: age, dtype: float64"
      ]
     },
     "execution_count": 39,
     "metadata": {},
     "output_type": "execute_result"
    }
   ],
   "source": [
    "# check the min & max age of the dataset, use this info to update the xmin & xmax variables in the code block below.\n",
    "df_tr['age'].describe()"
   ]
  },
  {
   "cell_type": "code",
   "execution_count": null,
   "id": "e44e257c-676e-49d8-89ec-657e506c3b74",
   "metadata": {
    "id": "e44e257c-676e-49d8-89ec-657e506c3b74"
   },
   "outputs": [],
   "source": [
    "# which data columns do we wish to use as covariates?\n",
    "# You could add additional covariates from your own dataset here that you wish to use as predictors.\n",
    "# However, for this tutorial today we will keep it simple and just use age & sex.\n",
    "# Maybe discuss with your partner ideas you have for other covariates you would like to include.\n",
    "cols_cov = ['age','sex']\n",
    "\n",
    "# which warping function to use? We can set this to None in order to fit a vanilla Gaussian noise model\n",
    "warp =  'WarpSinArcsinh'\n",
    "\n",
    "# limits for cubic B-spline basis\n",
    "# check the min & max ages of the dataframes, add 5 to the max\n",
    "# and subtract 5 from the min and adjust these variables accordingly\n",
    "xmin = 13 # set this variable\n",
    "xmax = 92 # set this variable\n",
    "\n",
    "# Do we want to force the model to be refit every time?\n",
    "# When training normative model from scratch like we are doing in this notebook (not re-using a pre-trained model),\n",
    "# this variable should be = True\n",
    "force_refit = True\n",
    "\n",
    "# Absolute Z treshold above which a sample is considered to be an outlier (without fitting any model)\n",
    "outlier_thresh = 7"
   ]
  },
  {
   "cell_type": "markdown",
   "id": "896842d7-8913-4137-9d86-4757c42bcf1b",
   "metadata": {
    "id": "896842d7-8913-4137-9d86-4757c42bcf1b"
   },
   "source": [
    "### Fit the models\n",
    "\n",
    "Now we fit the models. This involves looping over the IDPs we have selected. We will use a module from PCNtoolkit to set up the design matrices, containing the covariates, fixed effects for site and nonlinear basis expansion."
   ]
  },
  {
   "cell_type": "code",
   "execution_count": 41,
   "id": "a4e9b50c-574b-4e2c-a511-cc444db4393e",
   "metadata": {
    "colab": {
     "base_uri": "https://localhost:8080/"
    },
    "id": "a4e9b50c-574b-4e2c-a511-cc444db4393e",
    "outputId": "29a14592-388b-40c5-8a06-b00ff3663942"
   },
   "outputs": [
    {
     "name": "stdout",
     "output_type": "stream",
     "text": [
      "Running IDP 0 lh_MeanThickness_thickness :\n",
      "Estimating the normative model...\n",
      "Processing data in /content/CPC_ML_tutorial/models/test/lh_MeanThickness_thickness/resp_tr.txt\n",
      "Estimating model  1 of 1\n",
      "configuring BLR ( order 1 )\n",
      "Using default hyperparameters\n",
      "Saving model meta-data...\n",
      "Evaluating the model ...\n",
      "Writing outputs ...\n",
      "Running IDP 1 rh_MeanThickness_thickness :\n",
      "Estimating the normative model...\n",
      "Processing data in /content/CPC_ML_tutorial/models/test/rh_MeanThickness_thickness/resp_tr.txt\n",
      "Estimating model  1 of 1\n",
      "configuring BLR ( order 1 )\n",
      "Using default hyperparameters\n",
      "Saving model meta-data...\n",
      "Evaluating the model ...\n",
      "Writing outputs ...\n"
     ]
    }
   ],
   "source": [
    "for idp_num, idp in enumerate(idp_ids):\n",
    "    print('Running IDP', idp_num, idp, ':')\n",
    "\n",
    "    # set output dir\n",
    "    idp_dir = os.path.join(out_dir, idp)\n",
    "    os.makedirs(os.path.join(idp_dir), exist_ok=True)\n",
    "    os.chdir(idp_dir)\n",
    "\n",
    "    # extract the response variables for training and test set\n",
    "    y_tr = df_tr[idp].to_numpy()\n",
    "    y_te = df_te[idp].to_numpy()\n",
    "\n",
    "    # remove gross outliers and implausible values\n",
    "    yz_tr = (y_tr - np.mean(y_tr)) / np.std(y_tr)\n",
    "    yz_te = (y_te - np.mean(y_te)) / np.std(y_te)\n",
    "    nz_tr = np.bitwise_and(np.abs(yz_tr) < outlier_thresh, y_tr > 0)\n",
    "    nz_te = np.bitwise_and(np.abs(yz_te) < outlier_thresh, y_te > 0)\n",
    "    y_tr = y_tr[nz_tr]\n",
    "    y_te = y_te[nz_te]\n",
    "\n",
    "    # write out the response variables for training and test\n",
    "    resp_file_tr = os.path.join(idp_dir, 'resp_tr.txt')\n",
    "    resp_file_te = os.path.join(idp_dir, 'resp_te.txt')\n",
    "    np.savetxt(resp_file_tr, y_tr)\n",
    "    np.savetxt(resp_file_te, y_te)\n",
    "\n",
    "    # configure the design matrix\n",
    "    X_tr = create_design_matrix(df_tr[cols_cov].loc[nz_tr],\n",
    "                                site_ids = df_tr['site'].loc[nz_tr],\n",
    "                                basis = 'bspline',\n",
    "                                p = 3,\n",
    "                                nknots = 5,\n",
    "                                xmin = xmin,\n",
    "                                xmax = xmax)\n",
    "    X_te = create_design_matrix(df_te[cols_cov].loc[nz_te],\n",
    "                                site_ids = df_te['site'].loc[nz_te],\n",
    "                                all_sites=site_ids,\n",
    "                                basis = 'bspline',\n",
    "                                p = 3,\n",
    "                                nknots = 5,\n",
    "                                xmin = xmin,\n",
    "                                xmax = xmax)\n",
    "\n",
    "    # configure and save the covariates\n",
    "    cov_file_tr = os.path.join(idp_dir, 'cov_bspline_tr.txt')\n",
    "    cov_file_te = os.path.join(idp_dir, 'cov_bspline_te.txt')\n",
    "    np.savetxt(cov_file_tr, X_tr)\n",
    "    np.savetxt(cov_file_te, X_te)\n",
    "\n",
    "    if not force_refit and os.path.exists(os.path.join(idp_dir, 'Models', 'NM_0_0_estimate.pkl')):\n",
    "        print('Making predictions using a pre-existing model...')\n",
    "        suffix = 'predict'\n",
    "\n",
    "        # Make prdictsion with test data\n",
    "        predict(cov_file_te,\n",
    "                alg='blr',\n",
    "                respfile=resp_file_te,\n",
    "                model_path=os.path.join(idp_dir,'Models'),\n",
    "                outputsuffix=suffix)\n",
    "    else:\n",
    "        print('Estimating the normative model...')\n",
    "        estimate(cov_file_tr, resp_file_tr, testresp=resp_file_te,\n",
    "                 testcov=cov_file_te, alg='blr', optimizer = 'l-bfgs-b',\n",
    "                 savemodel=True, warp=warp, warp_reparam=True)\n",
    "        suffix = 'estimate'"
   ]
  },
  {
   "cell_type": "code",
   "execution_count": 48,
   "id": "jAYfsUAcB5h4",
   "metadata": {
    "colab": {
     "base_uri": "https://localhost:8080/",
     "height": 582
    },
    "id": "jAYfsUAcB5h4",
    "outputId": "527f4599-05e2-4743-cbbf-549375940a85"
   },
   "outputs": [
    {
     "name": "stderr",
     "output_type": "stream",
     "text": [
      "WARNING:matplotlib.legend:No artists with labels found to put in legend.  Note that artists whose label start with an underscore are ignored when legend() is called with no argument.\n"
     ]
    },
    {
     "data": {
      "image/png": "[encoded data removed]",
      "text/plain": [
       "<Figure size 800x600 with 1 Axes>"
      ]
     },
     "metadata": {},
     "output_type": "display_data"
    }
   ],
   "source": [
    "age = X_tr[:, 1]\n",
    "knots_basis = X_tr[:, 6:12]  # Extract the relevant B-spline basis columns (6th, 7th, and 8th)\n",
    "plt.figure(figsize=(8, 6))\n",
    "for i in range(knots_basis.shape[1]):\n",
    "    plt.scatter(age, knots_basis[:, i], alpha=0.7)\n",
    "plt.title('Visualization of B-spline Basis Functions')\n",
    "plt.xlabel('Age')\n",
    "plt.ylabel('B-spline Basis Value')\n",
    "plt.legend()\n",
    "plt.grid(alpha=0.3)\n",
    "plt.show()"
   ]
  },
  {
   "cell_type": "markdown",
   "id": "w1Qo37JIa4-x",
   "metadata": {
    "id": "w1Qo37JIa4-x"
   },
   "source": [
    "## Questions\n",
    "1. Can you explain the covariance matrix and it's elements?\n",
    "2. How do you change the order of the spline function?\n",
    "3. How do you change the number of knots?\n"
   ]
  },
  {
   "cell_type": "markdown",
   "id": "925f77cf-c873-4047-91ac-50b9571704fd",
   "metadata": {
    "id": "925f77cf-c873-4047-91ac-50b9571704fd"
   },
   "source": [
    "### Optional: Compute error metrics\n",
    "\n",
    "In this section we compute the following error metrics for all IDPs (all evaluated on the test set): assess the goodness of fit between the predicted probabilities of a model and the actual observed outcomes.\n",
    "- Negative log likelihood (NLL): NLL assesses the goodness of fit between the predicted probabilities of a model and the actual observed outcomes. In this case, it measures the discrepancy between the predicted probabilities of the model for the IDPs (Independent Data Points) and the actual outcomes on the test set.\n",
    "- Explained variance (EV): EV assesses how much of the total variation in the dependent variable (IDP) is explained by the independent variables. In the context of this analysis, it quantifies the extent to which the independent variables account for the variability observed in the IDPs on the test set.\n",
    "- Mean standardized log loss (MSLL): MSLL takes into account both the mean error and the estimated prediction variance. It is used to evaluate the performance of the model, and in this case, a lower MSLL indicates a better-fitting model for the IDPs on the test set.\n",
    "- Bayesian information criteria (BIC): BIC is a model selection criterion that balances the goodness of fit to the data with the model's complexity. It penalizes models with higher flexibility and aims to find the best trade-off. Lower BIC scores indicate models that better explain the IDPs on the test set while considering the model complexity.\n",
    "- Skew and Kurtosis of the Z-distribution: Skewness and kurtosis are statistical measures used to assess the shape and characteristics of a distribution. They provide information about how well the warping function performed in terms of capturing the departure from a normal distribution for the IDPs.\n",
    "\n",
    "For more information on the different model selection criteria see [Fraza et al 2021](https://www.biorxiv.org/content/10.1101/2021.04.05.438429v1)"
   ]
  },
  {
   "cell_type": "code",
   "execution_count": 43,
   "id": "2e9d7500-4f46-4ee1-9756-81758ae5b1d1",
   "metadata": {
    "colab": {
     "base_uri": "https://localhost:8080/",
     "height": 125
    },
    "id": "2e9d7500-4f46-4ee1-9756-81758ae5b1d1",
    "outputId": "c0c110f2-8a3d-4dc6-fea0-1d2328231dce"
   },
   "outputs": [
    {
     "data": {
      "application/vnd.google.colaboratory.intrinsic+json": {
       "summary": "{\n  \"name\": \"blr_metrics\",\n  \"rows\": 2,\n  \"fields\": [\n    {\n      \"column\": \"eid\",\n      \"properties\": {\n        \"dtype\": \"string\",\n        \"num_unique_values\": 2,\n        \"samples\": [\n          \"rh_MeanThickness_thickness\",\n          \"lh_MeanThickness_thickness\"\n        ],\n        \"semantic_type\": \"\",\n        \"description\": \"\"\n      }\n    },\n    {\n      \"column\": \"NLL\",\n      \"properties\": {\n        \"dtype\": \"number\",\n        \"std\": 18.068663252484512,\n        \"min\": -1102.8867058758515,\n        \"max\": -1077.3337572502355,\n        \"num_unique_values\": 2,\n        \"samples\": [\n          -1077.3337572502355,\n          -1102.8867058758515\n        ],\n        \"semantic_type\": \"\",\n        \"description\": \"\"\n      }\n    },\n    {\n      \"column\": \"EV\",\n      \"properties\": {\n        \"dtype\": \"number\",\n        \"std\": 0.07507928243647148,\n        \"min\": 0.2969715241971035,\n        \"max\": 0.40314966367200156,\n        \"num_unique_values\": 2,\n        \"samples\": [\n          0.40314966367200156,\n          0.2969715241971035\n        ],\n        \"semantic_type\": \"\",\n        \"description\": \"\"\n      }\n    },\n    {\n      \"column\": \"MSLL\",\n      \"properties\": {\n        \"dtype\": \"number\",\n        \"std\": 0.05621087625229147,\n        \"min\": -0.2609619370788775,\n        \"max\": -0.18146775353001116,\n        \"num_unique_values\": 2,\n        \"samples\": [\n          -0.2609619370788775,\n          -0.18146775353001116\n        ],\n        \"semantic_type\": \"\",\n        \"description\": \"\"\n      }\n    },\n    {\n      \"column\": \"BIC\",\n      \"properties\": {\n        \"dtype\": \"number\",\n        \"std\": 36.137326504969025,\n        \"min\": -2191.6576158768794,\n        \"max\": -2140.5517186256475,\n        \"num_unique_values\": 2,\n        \"samples\": [\n          -2140.5517186256475,\n          -2191.6576158768794\n        ],\n        \"semantic_type\": \"\",\n        \"description\": \"\"\n      }\n    },\n    {\n      \"column\": \"Skew\",\n      \"properties\": {\n        \"dtype\": \"number\",\n        \"std\": 0.0622556071290116,\n        \"min\": 0.06083149474763852,\n        \"max\": 0.14887421868325787,\n        \"num_unique_values\": 2,\n        \"samples\": [\n          0.14887421868325787,\n          0.06083149474763852\n        ],\n        \"semantic_type\": \"\",\n        \"description\": \"\"\n      }\n    },\n    {\n      \"column\": \"Kurtosis\",\n      \"properties\": {\n        \"dtype\": \"number\",\n        \"std\": 0.37224279448991554,\n        \"min\": 0.7471639055286583,\n        \"max\": 1.2735947139919577,\n        \"num_unique_values\": 2,\n        \"samples\": [\n          0.7471639055286583,\n          1.2735947139919577\n        ],\n        \"semantic_type\": \"\",\n        \"description\": \"\"\n      }\n    }\n  ]\n}",
       "type": "dataframe",
       "variable_name": "blr_metrics"
      },
      "text/html": [
       "\n",
       "  <div id=\"df-47b7e23c-7afc-43e7-a475-d51a3f6fa5b2\" class=\"colab-df-container\">\n",
       "    <div>\n",
       "<style scoped>\n",
       "    .dataframe tbody tr th:only-of-type {\n",
       "        vertical-align: middle;\n",
       "    }\n",
       "\n",
       "    .dataframe tbody tr th {\n",
       "        vertical-align: top;\n",
       "    }\n",
       "\n",
       "    .dataframe thead th {\n",
       "        text-align: right;\n",
       "    }\n",
       "</style>\n",
       "<table border=\"1\" class=\"dataframe\">\n",
       "  <thead>\n",
       "    <tr style=\"text-align: right;\">\n",
       "      <th></th>\n",
       "      <th>eid</th>\n",
       "      <th>NLL</th>\n",
       "      <th>EV</th>\n",
       "      <th>MSLL</th>\n",
       "      <th>BIC</th>\n",
       "      <th>Skew</th>\n",
       "      <th>Kurtosis</th>\n",
       "    </tr>\n",
       "  </thead>\n",
       "  <tbody>\n",
       "    <tr>\n",
       "      <th>0</th>\n",
       "      <td>lh_MeanThickness_thickness</td>\n",
       "      <td>-1102.886706</td>\n",
       "      <td>0.296972</td>\n",
       "      <td>-0.181468</td>\n",
       "      <td>-2191.657616</td>\n",
       "      <td>0.060831</td>\n",
       "      <td>1.273595</td>\n",
       "    </tr>\n",
       "    <tr>\n",
       "      <th>1</th>\n",
       "      <td>rh_MeanThickness_thickness</td>\n",
       "      <td>-1077.333757</td>\n",
       "      <td>0.403150</td>\n",
       "      <td>-0.260962</td>\n",
       "      <td>-2140.551719</td>\n",
       "      <td>0.148874</td>\n",
       "      <td>0.747164</td>\n",
       "    </tr>\n",
       "  </tbody>\n",
       "</table>\n",
       "</div>\n",
       "    <div class=\"colab-df-buttons\">\n",
       "\n",
       "  <div class=\"colab-df-container\">\n",
       "    <button class=\"colab-df-convert\" onclick=\"convertToInteractive('df-47b7e23c-7afc-43e7-a475-d51a3f6fa5b2')\"\n",
       "            title=\"Convert this dataframe to an interactive table.\"\n",
       "            style=\"display:none;\">\n",
       "\n",
       "  <svg xmlns=\"http://www.w3.org/2000/svg\" height=\"24px\" viewBox=\"0 -960 960 960\">\n",
       "    <path d=\"M120-120v-720h720v720H120Zm60-500h600v-160H180v160Zm220 220h160v-160H400v160Zm0 220h160v-160H400v160ZM180-400h160v-160H180v160Zm440 0h160v-160H620v160ZM180-180h160v-160H180v160Zm440 0h160v-160H620v160Z\"/>\n",
       "  </svg>\n",
       "    </button>\n",
       "\n",
       "  <style>\n",
       "    .colab-df-container {\n",
       "      display:flex;\n",
       "      gap: 12px;\n",
       "    }\n",
       "\n",
       "    .colab-df-convert {\n",
       "      background-color: #E8F0FE;\n",
       "      border: none;\n",
       "      border-radius: 50%;\n",
       "      cursor: pointer;\n",
       "      display: none;\n",
       "      fill: #1967D2;\n",
       "      height: 32px;\n",
       "      padding: 0 0 0 0;\n",
       "      width: 32px;\n",
       "    }\n",
       "\n",
       "    .colab-df-convert:hover {\n",
       "      background-color: #E2EBFA;\n",
       "      box-shadow: 0px 1px 2px rgba(60, 64, 67, 0.3), 0px 1px 3px 1px rgba(60, 64, 67, 0.15);\n",
       "      fill: #174EA6;\n",
       "    }\n",
       "\n",
       "    .colab-df-buttons div {\n",
       "      margin-bottom: 4px;\n",
       "    }\n",
       "\n",
       "    [theme=dark] .colab-df-convert {\n",
       "      background-color: #3B4455;\n",
       "      fill: #D2E3FC;\n",
       "    }\n",
       "\n",
       "    [theme=dark] .colab-df-convert:hover {\n",
       "      background-color: #434B5C;\n",
       "      box-shadow: 0px 1px 3px 1px rgba(0, 0, 0, 0.15);\n",
       "      filter: drop-shadow(0px 1px 2px rgba(0, 0, 0, 0.3));\n",
       "      fill: #FFFFFF;\n",
       "    }\n",
       "  </style>\n",
       "\n",
       "    <script>\n",
       "      const buttonEl =\n",
       "        document.querySelector('#df-47b7e23c-7afc-43e7-a475-d51a3f6fa5b2 button.colab-df-convert');\n",
       "      buttonEl.style.display =\n",
       "        google.colab.kernel.accessAllowed ? 'block' : 'none';\n",
       "\n",
       "      async function convertToInteractive(key) {\n",
       "        const element = document.querySelector('#df-47b7e23c-7afc-43e7-a475-d51a3f6fa5b2');\n",
       "        const dataTable =\n",
       "          await google.colab.kernel.invokeFunction('convertToInteractive',\n",
       "                                                    [key], {});\n",
       "        if (!dataTable) return;\n",
       "\n",
       "        const docLinkHtml = 'Like what you see? Visit the ' +\n",
       "          '<a target=\"_blank\" href=https://colab.research.google.com/notebooks/data_table.ipynb>data table notebook</a>'\n",
       "          + ' to learn more about interactive tables.';\n",
       "        element.innerHTML = '';\n",
       "        dataTable['output_type'] = 'display_data';\n",
       "        await google.colab.output.renderOutput(dataTable, element);\n",
       "        const docLink = document.createElement('div');\n",
       "        docLink.innerHTML = docLinkHtml;\n",
       "        element.appendChild(docLink);\n",
       "      }\n",
       "    </script>\n",
       "  </div>\n",
       "\n",
       "\n",
       "<div id=\"df-00e57ca8-4fcf-45ef-9573-466bb804fab3\">\n",
       "  <button class=\"colab-df-quickchart\" onclick=\"quickchart('df-00e57ca8-4fcf-45ef-9573-466bb804fab3')\"\n",
       "            title=\"Suggest charts\"\n",
       "            style=\"display:none;\">\n",
       "\n",
       "<svg xmlns=\"http://www.w3.org/2000/svg\" height=\"24px\"viewBox=\"0 0 24 24\"\n",
       "     width=\"24px\">\n",
       "    <g>\n",
       "        <path d=\"M19 3H5c-1.1 0-2 .9-2 2v14c0 1.1.9 2 2 2h14c1.1 0 2-.9 2-2V5c0-1.1-.9-2-2-2zM9 17H7v-7h2v7zm4 0h-2V7h2v10zm4 0h-2v-4h2v4z\"/>\n",
       "    </g>\n",
       "</svg>\n",
       "  </button>\n",
       "\n",
       "<style>\n",
       "  .colab-df-quickchart {\n",
       "      --bg-color: #E8F0FE;\n",
       "      --fill-color: #1967D2;\n",
       "      --hover-bg-color: #E2EBFA;\n",
       "      --hover-fill-color: #174EA6;\n",
       "      --disabled-fill-color: #AAA;\n",
       "      --disabled-bg-color: #DDD;\n",
       "  }\n",
       "\n",
       "  [theme=dark] .colab-df-quickchart {\n",
       "      --bg-color: #3B4455;\n",
       "      --fill-color: #D2E3FC;\n",
       "      --hover-bg-color: #434B5C;\n",
       "      --hover-fill-color: #FFFFFF;\n",
       "      --disabled-bg-color: #3B4455;\n",
       "      --disabled-fill-color: #666;\n",
       "  }\n",
       "\n",
       "  .colab-df-quickchart {\n",
       "    background-color: var(--bg-color);\n",
       "    border: none;\n",
       "    border-radius: 50%;\n",
       "    cursor: pointer;\n",
       "    display: none;\n",
       "    fill: var(--fill-color);\n",
       "    height: 32px;\n",
       "    padding: 0;\n",
       "    width: 32px;\n",
       "  }\n",
       "\n",
       "  .colab-df-quickchart:hover {\n",
       "    background-color: var(--hover-bg-color);\n",
       "    box-shadow: 0 1px 2px rgba(60, 64, 67, 0.3), 0 1px 3px 1px rgba(60, 64, 67, 0.15);\n",
       "    fill: var(--button-hover-fill-color);\n",
       "  }\n",
       "\n",
       "  .colab-df-quickchart-complete:disabled,\n",
       "  .colab-df-quickchart-complete:disabled:hover {\n",
       "    background-color: var(--disabled-bg-color);\n",
       "    fill: var(--disabled-fill-color);\n",
       "    box-shadow: none;\n",
       "  }\n",
       "\n",
       "  .colab-df-spinner {\n",
       "    border: 2px solid var(--fill-color);\n",
       "    border-color: transparent;\n",
       "    border-bottom-color: var(--fill-color);\n",
       "    animation:\n",
       "      spin 1s steps(1) infinite;\n",
       "  }\n",
       "\n",
       "  @keyframes spin {\n",
       "    0% {\n",
       "      border-color: transparent;\n",
       "      border-bottom-color: var(--fill-color);\n",
       "      border-left-color: var(--fill-color);\n",
       "    }\n",
       "    20% {\n",
       "      border-color: transparent;\n",
       "      border-left-color: var(--fill-color);\n",
       "      border-top-color: var(--fill-color);\n",
       "    }\n",
       "    30% {\n",
       "      border-color: transparent;\n",
       "      border-left-color: var(--fill-color);\n",
       "      border-top-color: var(--fill-color);\n",
       "      border-right-color: var(--fill-color);\n",
       "    }\n",
       "    40% {\n",
       "      border-color: transparent;\n",
       "      border-right-color: var(--fill-color);\n",
       "      border-top-color: var(--fill-color);\n",
       "    }\n",
       "    60% {\n",
       "      border-color: transparent;\n",
       "      border-right-color: var(--fill-color);\n",
       "    }\n",
       "    80% {\n",
       "      border-color: transparent;\n",
       "      border-right-color: var(--fill-color);\n",
       "      border-bottom-color: var(--fill-color);\n",
       "    }\n",
       "    90% {\n",
       "      border-color: transparent;\n",
       "      border-bottom-color: var(--fill-color);\n",
       "    }\n",
       "  }\n",
       "</style>\n",
       "\n",
       "  <script>\n",
       "    async function quickchart(key) {\n",
       "      const quickchartButtonEl =\n",
       "        document.querySelector('#' + key + ' button');\n",
       "      quickchartButtonEl.disabled = true;  // To prevent multiple clicks.\n",
       "      quickchartButtonEl.classList.add('colab-df-spinner');\n",
       "      try {\n",
       "        const charts = await google.colab.kernel.invokeFunction(\n",
       "            'suggestCharts', [key], {});\n",
       "      } catch (error) {\n",
       "        console.error('Error during call to suggestCharts:', error);\n",
       "      }\n",
       "      quickchartButtonEl.classList.remove('colab-df-spinner');\n",
       "      quickchartButtonEl.classList.add('colab-df-quickchart-complete');\n",
       "    }\n",
       "    (() => {\n",
       "      let quickchartButtonEl =\n",
       "        document.querySelector('#df-00e57ca8-4fcf-45ef-9573-466bb804fab3 button');\n",
       "      quickchartButtonEl.style.display =\n",
       "        google.colab.kernel.accessAllowed ? 'block' : 'none';\n",
       "    })();\n",
       "  </script>\n",
       "</div>\n",
       "\n",
       "  <div id=\"id_025f78aa-5dd3-4920-ab9a-9c9aac984568\">\n",
       "    <style>\n",
       "      .colab-df-generate {\n",
       "        background-color: #E8F0FE;\n",
       "        border: none;\n",
       "        border-radius: 50%;\n",
       "        cursor: pointer;\n",
       "        display: none;\n",
       "        fill: #1967D2;\n",
       "        height: 32px;\n",
       "        padding: 0 0 0 0;\n",
       "        width: 32px;\n",
       "      }\n",
       "\n",
       "      .colab-df-generate:hover {\n",
       "        background-color: #E2EBFA;\n",
       "        box-shadow: 0px 1px 2px rgba(60, 64, 67, 0.3), 0px 1px 3px 1px rgba(60, 64, 67, 0.15);\n",
       "        fill: #174EA6;\n",
       "      }\n",
       "\n",
       "      [theme=dark] .colab-df-generate {\n",
       "        background-color: #3B4455;\n",
       "        fill: #D2E3FC;\n",
       "      }\n",
       "\n",
       "      [theme=dark] .colab-df-generate:hover {\n",
       "        background-color: #434B5C;\n",
       "        box-shadow: 0px 1px 3px 1px rgba(0, 0, 0, 0.15);\n",
       "        filter: drop-shadow(0px 1px 2px rgba(0, 0, 0, 0.3));\n",
       "        fill: #FFFFFF;\n",
       "      }\n",
       "    </style>\n",
       "    <button class=\"colab-df-generate\" onclick=\"generateWithVariable('blr_metrics')\"\n",
       "            title=\"Generate code using this dataframe.\"\n",
       "            style=\"display:none;\">\n",
       "\n",
       "  <svg xmlns=\"http://www.w3.org/2000/svg\" height=\"24px\"viewBox=\"0 0 24 24\"\n",
       "       width=\"24px\">\n",
       "    <path d=\"M7,19H8.4L18.45,9,17,7.55,7,17.6ZM5,21V16.75L18.45,3.32a2,2,0,0,1,2.83,0l1.4,1.43a1.91,1.91,0,0,1,.58,1.4,1.91,1.91,0,0,1-.58,1.4L9.25,21ZM18.45,9,17,7.55Zm-12,3A5.31,5.31,0,0,0,4.9,8.1,5.31,5.31,0,0,0,1,6.5,5.31,5.31,0,0,0,4.9,4.9,5.31,5.31,0,0,0,6.5,1,5.31,5.31,0,0,0,8.1,4.9,5.31,5.31,0,0,0,12,6.5,5.46,5.46,0,0,0,6.5,12Z\"/>\n",
       "  </svg>\n",
       "    </button>\n",
       "    <script>\n",
       "      (() => {\n",
       "      const buttonEl =\n",
       "        document.querySelector('#id_025f78aa-5dd3-4920-ab9a-9c9aac984568 button.colab-df-generate');\n",
       "      buttonEl.style.display =\n",
       "        google.colab.kernel.accessAllowed ? 'block' : 'none';\n",
       "\n",
       "      buttonEl.onclick = () => {\n",
       "        google.colab.notebook.generateWithVariable('blr_metrics');\n",
       "      }\n",
       "      })();\n",
       "    </script>\n",
       "  </div>\n",
       "\n",
       "    </div>\n",
       "  </div>\n"
      ],
      "text/plain": [
       "                          eid          NLL        EV      MSLL          BIC  \\\n",
       "0  lh_MeanThickness_thickness -1102.886706  0.296972 -0.181468 -2191.657616   \n",
       "1  rh_MeanThickness_thickness -1077.333757  0.403150 -0.260962 -2140.551719   \n",
       "\n",
       "       Skew  Kurtosis  \n",
       "0  0.060831  1.273595  \n",
       "1  0.148874  0.747164  "
      ]
     },
     "metadata": {},
     "output_type": "display_data"
    }
   ],
   "source": [
    "# initialise dataframe we will use to store quantitative metrics\n",
    "blr_metrics = pd.DataFrame(columns = ['eid', 'NLL', 'EV', 'MSLL', 'BIC','Skew','Kurtosis'])\n",
    "\n",
    "for idp_num, idp in enumerate(idp_ids):\n",
    "    idp_dir = os.path.join(out_dir, idp)\n",
    "\n",
    "    # load the predictions and true data. We use a custom function that ensures 2d arrays\n",
    "    # equivalent to: y = np.loadtxt(filename); y = y[:, np.newaxis]\n",
    "    yhat_te = load_2d(os.path.join(idp_dir, 'yhat_' + suffix + '.txt'))\n",
    "    s2_te = load_2d(os.path.join(idp_dir, 'ys2_' + suffix + '.txt'))\n",
    "    y_tr = load_2d(os.path.join(idp_dir, 'resp_tr.txt'))\n",
    "    y_te = load_2d(os.path.join(idp_dir, 'resp_te.txt'))\n",
    "\n",
    "    with open(os.path.join(idp_dir,'Models', 'NM_0_0_estimate.pkl'), 'rb') as handle:\n",
    "        nm = pickle.load(handle)\n",
    "\n",
    "    # compute error metrics\n",
    "    if warp is None:\n",
    "        metrics = evaluate(y_te, yhat_te)\n",
    "\n",
    "        # compute MSLL manually as a sanity check\n",
    "        y_tr_mean = np.array( [[np.mean(y_tr)]] )\n",
    "        y_tr_var = np.array( [[np.var(y_tr)]] )\n",
    "        MSLL = compute_MSLL(y_te, yhat_te, s2_te, y_tr_mean, y_tr_var)\n",
    "    else:\n",
    "        warp_param = nm.blr.hyp[1:nm.blr.warp.get_n_params()+1]\n",
    "        W = nm.blr.warp\n",
    "\n",
    "        # warp predictions\n",
    "        med_te = W.warp_predictions(np.squeeze(yhat_te), np.squeeze(s2_te), warp_param)[0]\n",
    "        med_te = med_te[:, np.newaxis]\n",
    "\n",
    "        # evaluation metrics\n",
    "        metrics = evaluate(y_te, med_te)\n",
    "\n",
    "        # compute MSLL manually\n",
    "        y_te_w = W.f(y_te, warp_param)\n",
    "        y_tr_w = W.f(y_tr, warp_param)\n",
    "        y_tr_mean = np.array( [[np.mean(y_tr_w)]] )\n",
    "        y_tr_var = np.array( [[np.var(y_tr_w)]] )\n",
    "        MSLL = compute_MSLL(y_te_w, yhat_te, s2_te, y_tr_mean, y_tr_var)\n",
    "\n",
    "    Z = np.loadtxt(os.path.join(idp_dir, 'Z_' + suffix + '.txt'))\n",
    "    [skew, sdskew, kurtosis, sdkurtosis, semean, sesd] = calibration_descriptives(Z)\n",
    "\n",
    "    BIC = len(nm.blr.hyp) * np.log(y_tr.shape[0]) + 2 * nm.neg_log_lik\n",
    "\n",
    "    blr_metrics.loc[len(blr_metrics)] = [idp, nm.neg_log_lik, metrics['EXPV'][0],\n",
    "                                         MSLL[0], BIC, skew, kurtosis]\n",
    "\n",
    "display(blr_metrics)\n",
    "\n",
    "blr_metrics.to_csv(os.path.join(out_dir,'blr_metrics.csv'))"
   ]
  },
  {
   "cell_type": "code",
   "execution_count": 44,
   "id": "NCpzbIwGxVWj",
   "metadata": {
    "colab": {
     "base_uri": "https://localhost:8080/",
     "height": 335
    },
    "id": "NCpzbIwGxVWj",
    "outputId": "6165fd97-1e6a-4ca5-ffce-c804c593f50d"
   },
   "outputs": [
    {
     "data": {
      "text/html": [
       "<div>\n",
       "<style scoped>\n",
       "    .dataframe tbody tr th:only-of-type {\n",
       "        vertical-align: middle;\n",
       "    }\n",
       "\n",
       "    .dataframe tbody tr th {\n",
       "        vertical-align: top;\n",
       "    }\n",
       "\n",
       "    .dataframe thead th {\n",
       "        text-align: right;\n",
       "    }\n",
       "</style>\n",
       "<table border=\"1\" class=\"dataframe\">\n",
       "  <thead>\n",
       "    <tr style=\"text-align: right;\">\n",
       "      <th></th>\n",
       "      <th>EV</th>\n",
       "    </tr>\n",
       "  </thead>\n",
       "  <tbody>\n",
       "    <tr>\n",
       "      <th>count</th>\n",
       "      <td>2.000000</td>\n",
       "    </tr>\n",
       "    <tr>\n",
       "      <th>mean</th>\n",
       "      <td>0.350061</td>\n",
       "    </tr>\n",
       "    <tr>\n",
       "      <th>std</th>\n",
       "      <td>0.075079</td>\n",
       "    </tr>\n",
       "    <tr>\n",
       "      <th>min</th>\n",
       "      <td>0.296972</td>\n",
       "    </tr>\n",
       "    <tr>\n",
       "      <th>25%</th>\n",
       "      <td>0.323516</td>\n",
       "    </tr>\n",
       "    <tr>\n",
       "      <th>50%</th>\n",
       "      <td>0.350061</td>\n",
       "    </tr>\n",
       "    <tr>\n",
       "      <th>75%</th>\n",
       "      <td>0.376605</td>\n",
       "    </tr>\n",
       "    <tr>\n",
       "      <th>max</th>\n",
       "      <td>0.403150</td>\n",
       "    </tr>\n",
       "  </tbody>\n",
       "</table>\n",
       "</div><br><label><b>dtype:</b> float64</label>"
      ],
      "text/plain": [
       "count    2.000000\n",
       "mean     0.350061\n",
       "std      0.075079\n",
       "min      0.296972\n",
       "25%      0.323516\n",
       "50%      0.350061\n",
       "75%      0.376605\n",
       "max      0.403150\n",
       "Name: EV, dtype: float64"
      ]
     },
     "execution_count": 44,
     "metadata": {},
     "output_type": "execute_result"
    }
   ],
   "source": [
    "blr_metrics['EV'].describe()"
   ]
  },
  {
   "cell_type": "code",
   "execution_count": 45,
   "id": "Et7L-t9RJl75",
   "metadata": {
    "colab": {
     "base_uri": "https://localhost:8080/",
     "height": 335
    },
    "id": "Et7L-t9RJl75",
    "outputId": "bca8472e-9a44-45e4-8313-51f53c0e5aae"
   },
   "outputs": [
    {
     "data": {
      "text/html": [
       "<div>\n",
       "<style scoped>\n",
       "    .dataframe tbody tr th:only-of-type {\n",
       "        vertical-align: middle;\n",
       "    }\n",
       "\n",
       "    .dataframe tbody tr th {\n",
       "        vertical-align: top;\n",
       "    }\n",
       "\n",
       "    .dataframe thead th {\n",
       "        text-align: right;\n",
       "    }\n",
       "</style>\n",
       "<table border=\"1\" class=\"dataframe\">\n",
       "  <thead>\n",
       "    <tr style=\"text-align: right;\">\n",
       "      <th></th>\n",
       "      <th>MSLL</th>\n",
       "    </tr>\n",
       "  </thead>\n",
       "  <tbody>\n",
       "    <tr>\n",
       "      <th>count</th>\n",
       "      <td>2.000000</td>\n",
       "    </tr>\n",
       "    <tr>\n",
       "      <th>mean</th>\n",
       "      <td>-0.221215</td>\n",
       "    </tr>\n",
       "    <tr>\n",
       "      <th>std</th>\n",
       "      <td>0.056211</td>\n",
       "    </tr>\n",
       "    <tr>\n",
       "      <th>min</th>\n",
       "      <td>-0.260962</td>\n",
       "    </tr>\n",
       "    <tr>\n",
       "      <th>25%</th>\n",
       "      <td>-0.241088</td>\n",
       "    </tr>\n",
       "    <tr>\n",
       "      <th>50%</th>\n",
       "      <td>-0.221215</td>\n",
       "    </tr>\n",
       "    <tr>\n",
       "      <th>75%</th>\n",
       "      <td>-0.201341</td>\n",
       "    </tr>\n",
       "    <tr>\n",
       "      <th>max</th>\n",
       "      <td>-0.181468</td>\n",
       "    </tr>\n",
       "  </tbody>\n",
       "</table>\n",
       "</div><br><label><b>dtype:</b> float64</label>"
      ],
      "text/plain": [
       "count    2.000000\n",
       "mean    -0.221215\n",
       "std      0.056211\n",
       "min     -0.260962\n",
       "25%     -0.241088\n",
       "50%     -0.221215\n",
       "75%     -0.201341\n",
       "max     -0.181468\n",
       "Name: MSLL, dtype: float64"
      ]
     },
     "execution_count": 45,
     "metadata": {},
     "output_type": "execute_result"
    }
   ],
   "source": [
    "blr_metrics['MSLL'].describe()"
   ]
  },
  {
   "cell_type": "code",
   "execution_count": 46,
   "id": "s25LW4QuJqfW",
   "metadata": {
    "colab": {
     "base_uri": "https://localhost:8080/",
     "height": 448
    },
    "id": "s25LW4QuJqfW",
    "outputId": "704a2109-ba91-4460-c80e-e3d5b6a4595e"
   },
   "outputs": [
    {
     "data": {
      "text/plain": [
       "<Axes: >"
      ]
     },
     "execution_count": 46,
     "metadata": {},
     "output_type": "execute_result"
    },
    {
     "data": {
      "image/png": "[encoded data removed]",
      "text/plain": [
       "<Figure size 640x480 with 1 Axes>"
      ]
     },
     "metadata": {},
     "output_type": "display_data"
    }
   ],
   "source": [
    "blr_metrics['EV'].hist()"
   ]
  },
  {
   "cell_type": "code",
   "execution_count": 47,
   "id": "mBhUMsojJu5J",
   "metadata": {
    "colab": {
     "base_uri": "https://localhost:8080/",
     "height": 448
    },
    "id": "mBhUMsojJu5J",
    "outputId": "59f29afa-cc29-443c-a1b9-e55f78b265c8"
   },
   "outputs": [
    {
     "data": {
      "text/plain": [
       "<Axes: >"
      ]
     },
     "execution_count": 47,
     "metadata": {},
     "output_type": "execute_result"
    },
    {
     "data": {
      "image/png": "[encoded data removed]",
      "text/plain": [
       "<Figure size 640x480 with 1 Axes>"
      ]
     },
     "metadata": {},
     "output_type": "display_data"
    }
   ],
   "source": [
    "blr_metrics['MSLL'].hist()"
   ]
  },
  {
   "cell_type": "markdown",
   "id": "znBtH9lxA_wJ",
   "metadata": {
    "id": "znBtH9lxA_wJ"
   },
   "source": [
    "## Questions to discuss\n",
    "1. Model selection: Which model selection criteria would you use to choose the optimal model?\n",
    "2. Model flexibility: What happens when you change the warping or B-spline settings?\n",
    "3. Bias-variance tradeoff: How would you consider the bias-variance tradeoff when deciding the models parameters?\n",
    "4. Which independent variables do you think are important to add to the normative model?\n",
    "5. Are there other model selection criteria that you think should be considered?"
   ]
  },
  {
   "cell_type": "markdown",
   "id": "4WsaKT7OehjV",
   "metadata": {
    "id": "4WsaKT7OehjV"
   },
   "source": [
    "## Suggested further readings\n",
    "\n",
    "1. [PCNtoolkit Background](https://pcntoolkit.readthedocs.io/en/latest/pages/pcntoolkit_background.html)\n",
    "2. [Conceptualizing mental disorders as deviations from normative functioning](https://www.nature.com/articles/s41380-019-0441-1)\n",
    "3. [Understanding Heterogeneity in Clinical Cohorts Using Normative Models: Beyond Case-Control Studies\n",
    "](https://www.sciencedirect.com/science/article/pii/S0006322316000020)\n"
   ]
  }
 ],
 "metadata": {
  "accelerator": "GPU",
  "colab": {
   "gpuType": "T4",
   "name": "1_fit_normative_models.ipynb",
   "provenance": []
  },
  "kernelspec": {
   "display_name": "Python 3",
   "name": "python3"
  },
  "language_info": {
   "codemirror_mode": {
    "name": "ipython",
    "version": 3
   },
   "file_extension": ".py",
   "mimetype": "text/x-python",
   "name": "python",
   "nbconvert_exporter": "python",
   "pygments_lexer": "ipython3",
   "version": "3.9.7"
  }
 },
 "nbformat": 4,
 "nbformat_minor": 5
}
